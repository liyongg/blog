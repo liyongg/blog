{
 "cells": [
  {
   "cell_type": "code",
   "execution_count": 7,
   "metadata": {
    "tags": []
   },
   "outputs": [],
   "source": [
    "from typing import Callable, Literal, Union\n",
    "import numpy as np\n",
    "\n",
    "CreditFormulas = dict[tuple[float | int,\n",
    "                            float | int], Callable[[float], float]]\n",
    "Floats = Union[float, np.ndarray]\n",
    "\n",
    "\n",
    "class Tax():\n",
    "    def __init__(self,\n",
    "                 tax_percentages: tuple[float, ...] = (0.3697, 0.4950),\n",
    "                 tax_thresholds: list[float] = [75518],\n",
    "                 credit_labor_formulas: CreditFormulas = {\n",
    "                     (0, 11491): lambda x: 0.08425 * x,\n",
    "                     (11491, 24821): lambda x: 968 + 0.31433 * (x - 11490),\n",
    "                     (24821, 39958): lambda x: 5158 + 0.02471 * (x - 24820),\n",
    "                     (39958, 124935): lambda x: 5532 - 0.06510 * (x - 39958),\n",
    "                     (124935, float('inf')): lambda x: 0.0},\n",
    "                 credit_general_formulas: CreditFormulas = {\n",
    "                     (0, 24813): lambda x: 3362,\n",
    "                     (24813, 75518): lambda x: 3362 - 0.06630 * (x - 24812),\n",
    "                     (75518, float('inf')): lambda x: 0.0\n",
    "                 }\n",
    "                 ) -> None:\n",
    "\n",
    "        self.tax_percentages: tuple[float, ...] = tax_percentages\n",
    "        self.tax_thresholds: list[float] = tax_thresholds\n",
    "        self.credit_labor_formulas: CreditFormulas = credit_labor_formulas\n",
    "        self.credit_general_formulas: CreditFormulas = credit_general_formulas\n",
    "\n",
    "    def calculate_gross_taxes(self, total_gross) -> float:\n",
    "        percentages: tuple[float, ...] = self.tax_percentages\n",
    "        thresholds: list[float] = self.tax_thresholds.copy()\n",
    "        thresholds.append(thresholds[-1])\n",
    "\n",
    "        sum_gross_taxes: float = 0\n",
    "\n",
    "        for idx, (percent, threshold) in enumerate(\n",
    "            iterable=zip(percentages, thresholds)\n",
    "        ):\n",
    "            if idx == 0:\n",
    "                sum_gross_taxes += min(threshold, total_gross) * percent\n",
    "                continue\n",
    "            elif total_gross < threshold:\n",
    "                break\n",
    "            elif idx == len(percentages) - 1:\n",
    "                sum_gross_taxes += (total_gross - threshold) * percent\n",
    "                continue\n",
    "\n",
    "            max_taxable_salary: float = thresholds[idx + 1] - threshold\n",
    "            sum_gross_taxes += max_taxable_salary * percent\n",
    "\n",
    "        return sum_gross_taxes\n",
    "\n",
    "    def calculate_credit(self, total_gross,\n",
    "                         type: Literal['labor', 'general']) -> float:\n",
    "        ranges_options: dict[str, CreditFormulas] = {\n",
    "            'labor': self.credit_labor_formulas,\n",
    "            'general': self.credit_general_formulas\n",
    "        }\n",
    "\n",
    "        salary_ranges = ranges_options[type]\n",
    "\n",
    "        for (l, u), function in salary_ranges.items():\n",
    "            if l <= total_gross < u:\n",
    "                return function(total_gross)\n",
    "\n",
    "        return 0.0\n",
    "\n",
    "    def calculate_net_salary(self, total_gross) -> float:\n",
    "        taxes_gross: float = self.calculate_gross_taxes(total_gross)\n",
    "        labor_credit: float = self.calculate_credit(total_gross, type='labor')\n",
    "        labor_general: float = self.calculate_credit(\n",
    "            total_gross, type='general')\n",
    "        return total_gross - (taxes_gross - (labor_credit + labor_general))\n",
    "\n",
    "\n",
    "class Salary():\n",
    "    def __init__(self, gross: Floats, holiday_pay: float = 8.0,\n",
    "                 thirteenth: float = 100/12) -> None:\n",
    "        self.gross: Floats = gross\n",
    "        self.holiday_pay: float = holiday_pay\n",
    "        self.thirteenth: float = thirteenth\n",
    "\n",
    "    def calculate_gross_salary_yearly(self) -> Floats:\n",
    "        rate_bonus: float = (100 + self.holiday_pay + self.thirteenth)/100\n",
    "        return 12 * self.gross * rate_bonus"
   ]
  },
  {
   "cell_type": "code",
   "execution_count": 8,
   "metadata": {},
   "outputs": [
    {
     "name": "stdout",
     "output_type": "stream",
     "text": [
      "Gross salary (yearly) = 41880.0\n",
      "Net salary (yearly) = 34034.233400000005\n"
     ]
    }
   ],
   "source": [
    "#| label: code-salary-example\n",
    "# Instantiate a tax system and simulate a salary of 3000 gross with\n",
    "# minimal holiday allowance (8%) and a so called 'thirteenth month'\n",
    "tax = Tax()\n",
    "salary = Salary(gross=3000)\n",
    "gross_salary_year = salary.calculate_gross_salary_yearly()\n",
    "print(f\"Gross salary (yearly) = {gross_salary_year}\")\n",
    "print(f'Net salary (yearly) = {tax.calculate_net_salary(gross_salary_year)}')"
   ]
  },
  {
   "cell_type": "code",
   "execution_count": 9,
   "metadata": {},
   "outputs": [],
   "source": [
    "gross_salaries = 1000* np.arange(start=2, stop=10, step=0.1)\n",
    "gross_salaries_year = Salary(gross_salaries).calculate_gross_salary_yearly()"
   ]
  }
 ],
 "metadata": {
  "kernelspec": {
   "display_name": "env",
   "language": "python",
   "name": "python3"
  },
  "language_info": {
   "codemirror_mode": {
    "name": "ipython",
    "version": 3
   },
   "file_extension": ".py",
   "mimetype": "text/x-python",
   "name": "python",
   "nbconvert_exporter": "python",
   "pygments_lexer": "ipython3",
   "version": "3.10.11"
  }
 },
 "nbformat": 4,
 "nbformat_minor": 2
}
