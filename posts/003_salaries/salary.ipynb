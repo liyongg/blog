{
 "cells": [
  {
   "cell_type": "code",
   "execution_count": 26,
   "metadata": {
    "tags": []
   },
   "outputs": [],
   "source": [
    "from typing import Callable, Literal, Union\n",
    "import numpy as np\n",
    "\n",
    "CreditFormulas = dict[tuple[float | int,\n",
    "                            float | int], Callable[[float], float]]\n",
    "Floats = Union[float, np.ndarray]\n",
    "\n",
    "\n",
    "class Tax():\n",
    "    def __init__(self,\n",
    "                 tax_percentages: tuple[float, ...] = (0.3697, 0.4950),\n",
    "                 tax_thresholds: list[float] = [75518],\n",
    "                 credit_labor_formulas: CreditFormulas = {\n",
    "                     (0, 11491): lambda x: 0.08425 * x,\n",
    "                     (11491, 24821): lambda x: 968 + 0.31433 * (x - 11490),\n",
    "                     (24821, 39958): lambda x: 5158 + 0.02471 * (x - 24820),\n",
    "                     (39958, 124935): lambda x: 5532 - 0.06510 * (x - 39958),\n",
    "                     (124935, float('inf')): lambda x: 0.0},\n",
    "                 credit_general_formulas: CreditFormulas = {\n",
    "                     (0, 24813): lambda x: 3362,\n",
    "                     (24813, 75518): lambda x: 3362 - 0.06630 * (x - 24812),\n",
    "                     (75518, float('inf')): lambda x: 0.0\n",
    "                 }\n",
    "                 ) -> None:\n",
    "        \n",
    "        if not len(tax_percentages) - 1 == len(tax_thresholds):\n",
    "            raise ValueError(\"tax_percentages is not long enough\")\n",
    "\n",
    "        self.tax_percentages: tuple[float, ...] = tax_percentages\n",
    "        self.tax_thresholds: list[float] = tax_thresholds\n",
    "        self.credit_labor_formulas: CreditFormulas = credit_labor_formulas\n",
    "        self.credit_general_formulas: CreditFormulas = credit_general_formulas\n",
    "\n",
    "    def calculate_gross_taxes(self, total_gross) -> float:\n",
    "        percentages: tuple[float, ...] = self.tax_percentages\n",
    "        thresholds: list[float] = self.tax_thresholds.copy()\n",
    "        thresholds.append(thresholds[-1])\n",
    "\n",
    "        sum_gross_taxes: float = 0\n",
    "\n",
    "        for idx, (percent, threshold) in enumerate(\n",
    "            iterable=zip(percentages, thresholds)\n",
    "        ):\n",
    "            if idx == 0:\n",
    "                sum_gross_taxes += np.minimum(threshold, total_gross) * percent\n",
    "            elif idx == len(percentages) - 1:\n",
    "                sum_gross_taxes += np.maximum(total_gross -\n",
    "                                              threshold, 0) * percent\n",
    "            else:\n",
    "                max_taxable_salary = np.maximum(\n",
    "                    thresholds[idx + 1] - threshold, 0)\n",
    "                sum_gross_taxes += np.minimum(max_taxable_salary,\n",
    "                                              total_gross - threshold) * percent\n",
    "\n",
    "        return sum_gross_taxes\n",
    "\n",
    "    def calculate_credit(self, total_gross,\n",
    "                         type: Literal['labor', 'general']) -> float:\n",
    "        ranges_options: dict[str, CreditFormulas] = {\n",
    "            'labor': self.credit_labor_formulas,\n",
    "            'general': self.credit_general_formulas\n",
    "        }\n",
    "\n",
    "        salary_ranges = ranges_options[type]\n",
    "\n",
    "        for (l, u), function in salary_ranges.items():\n",
    "            if l <= total_gross < u:\n",
    "                return function(total_gross)\n",
    "\n",
    "        return 0.0\n",
    "\n",
    "    def calculate_net_salary(self, total_gross) -> float:\n",
    "        taxes_gross: float = self.calculate_gross_taxes(total_gross)\n",
    "        labor_credit: float = self.calculate_credit(total_gross, type='labor')\n",
    "        labor_general: float = self.calculate_credit(\n",
    "            total_gross, type='general')\n",
    "        return total_gross - (taxes_gross - (labor_credit + labor_general))\n",
    "\n",
    "\n",
    "class Salary():\n",
    "    def __init__(self, gross: Floats, holiday_pay: float = 8.0,\n",
    "                 thirteenth: float = 100/12) -> None:\n",
    "        self.gross: Floats = gross\n",
    "        self.holiday_pay: float = holiday_pay\n",
    "        self.thirteenth: float = thirteenth\n",
    "\n",
    "    def calculate_gross_salary_yearly(self) -> Floats:\n",
    "        rate_bonus: float = (100 + self.holiday_pay + self.thirteenth)/100\n",
    "        return 12 * self.gross * rate_bonus"
   ]
  },
  {
   "cell_type": "code",
   "execution_count": 29,
   "metadata": {},
   "outputs": [
    {
     "name": "stdout",
     "output_type": "stream",
     "text": [
      "Gross salary (yearly) = 41880.0\n",
      "Net salary (yearly) = 34034.233400000005\n"
     ]
    }
   ],
   "source": [
    "#| label: code-salary-example\n",
    "# Instantiate a tax system and simulate a salary of 3000 gross with\n",
    "# minimal holiday allowance (8%) and a so called 'thirteenth month'\n",
    "tax = Tax()\n",
    "salary = Salary(gross=3000)\n",
    "gross_salary_year = salary.calculate_gross_salary_yearly()\n",
    "print(f\"Gross salary (yearly) = {gross_salary_year}\")\n",
    "print(f'Net salary (yearly) = {tax.calculate_net_salary(gross_salary_year)}')"
   ]
  },
  {
   "cell_type": "code",
   "execution_count": 34,
   "metadata": {},
   "outputs": [
    {
     "name": "stdout",
     "output_type": "stream",
     "text": [
      "    gross_salary_monthly  gross_salary_yearly  gross_taxes\n",
      "0                 2000.0              27920.0   10322.0240\n",
      "1                 2100.0              29316.0   10838.1252\n",
      "2                 2200.0              30712.0   11354.2264\n",
      "3                 2300.0              32108.0   11870.3276\n",
      "4                 2400.0              33504.0   12386.4288\n",
      "..                   ...                  ...          ...\n",
      "75                9500.0             132620.0   56184.4946\n",
      "76                9600.0             134016.0   56875.5146\n",
      "77                9700.0             135412.0   57566.5346\n",
      "78                9800.0             136808.0   58257.5546\n",
      "79                9900.0             138204.0   58948.5746\n",
      "\n",
      "[80 rows x 3 columns]\n"
     ]
    }
   ],
   "source": [
    "gross_salaries = 1000* np.arange(start=2, stop=10, step=0.1)\n",
    "gross_salaries_year = Salary(gross_salaries).calculate_gross_salary_yearly()\n",
    "gross_taxes: float = tax.calculate_gross_taxes(gross_salaries_year)\n",
    "\n",
    "import pandas as pd\n",
    "df = pd.DataFrame({\"gross_salary_monthly\": gross_salaries, \n",
    "                   \"gross_salary_yearly\": gross_salaries_year, \n",
    "                   \"gross_taxes\": gross_taxes})\n",
    "print(df)"
   ]
  }
 ],
 "metadata": {
  "kernelspec": {
   "display_name": "env",
   "language": "python",
   "name": "python3"
  },
  "language_info": {
   "codemirror_mode": {
    "name": "ipython",
    "version": 3
   },
   "file_extension": ".py",
   "mimetype": "text/x-python",
   "name": "python",
   "nbconvert_exporter": "python",
   "pygments_lexer": "ipython3",
   "version": "3.10.11"
  }
 },
 "nbformat": 4,
 "nbformat_minor": 2
}
